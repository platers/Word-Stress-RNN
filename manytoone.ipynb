{
 "cells": [
  {
   "cell_type": "code",
   "execution_count": 1,
   "metadata": {
    "collapsed": false
   },
   "outputs": [],
   "source": [
    "import nltk\n",
    "import numpy as np\n",
    "import re\n",
    "from nltk.corpus import cmudict\n",
    "#http://www.nltk.org/api/nltk.corpus.reader.html#module-nltk.corpus.reader.cmudict"
   ]
  },
  {
   "cell_type": "code",
   "execution_count": 2,
   "metadata": {
    "collapsed": false
   },
   "outputs": [
    {
     "name": "stdout",
     "output_type": "stream",
     "text": [
      "39\n"
     ]
    }
   ],
   "source": [
    "ARPAbet = ['AA', 'AE', 'AH', 'AO', 'AW', 'AY', 'B', 'CH', 'D', 'DH', 'EH', 'ER', 'EY', 'F', 'G', 'HH', 'IH', 'IY', 'JH', 'K', 'L', 'M', 'N', 'NG', 'OW', 'OY', 'P', 'R', 'S', 'SH', 'T', 'TH', 'UH', 'UW', 'V', 'W', 'Y', 'Z', 'ZH']\n",
    "arpa = {}\n",
    "for i in range(len(ARPAbet)):\n",
    "    arpa[ARPAbet[i]] = i\n",
    "print len(ARPAbet)"
   ]
  },
  {
   "cell_type": "code",
   "execution_count": 3,
   "metadata": {
    "collapsed": false
   },
   "outputs": [],
   "source": [
    "d = cmudict.dict()\n",
    "e = cmudict.entries()\n",
    "x_train = []\n",
    "y_train = []\n",
    "for x in e:\n",
    "    #print x\n",
    "    w = x[0]\n",
    "    skip = False\n",
    "    for c in w:\n",
    "        if ord(c) < ord('a') or ord(c) > ord('z'):\n",
    "            skip = True\n",
    "    if skip:\n",
    "        continue\n",
    "    w.encode('ascii','ignore')\n",
    "    w = list(w)\n",
    "    x_train.append(w)\n",
    "    stress = -1\n",
    "    for y in x[1]:\n",
    "        y.encode('ascii','ignore')\n",
    "        if(y[len(y) - 1] == '1'):\n",
    "            stress = arpa[y[0:-1]]\n",
    "    y_train.append(stress)\n",
    "maxlen = 35\n",
    "X = np.zeros((len(x_train), maxlen, 26), dtype=np.bool)\n",
    "y = np.zeros((len(y_train), len(ARPAbet)), dtype=np.bool)\n",
    "for i, word in enumerate(x_train):\n",
    "    for t, char in enumerate(word):\n",
    "        #print word\n",
    "        X[i, t, ord(char) - ord('a')] = 1\n",
    "    y[i, y_train[i]] = 1\n"
   ]
  },
  {
   "cell_type": "code",
   "execution_count": 4,
   "metadata": {
    "collapsed": false
   },
   "outputs": [
    {
     "name": "stdout",
     "output_type": "stream",
     "text": [
      "[[u'G', u'UH2', u'D', u'B', u'AY1']]\n",
      "(u'abducted', [u'AH0', u'B', u'D', u'AH1', u'K', u'T', u'IH0', u'D'])\n",
      "[u'b', u'l', u'a', u'c', u'k', u'o', u'u', u't', u's']\n",
      "33\n"
     ]
    }
   ],
   "source": [
    "print d[\"goodbye\"]\n",
    "print e[110]\n",
    "print x_train[11101]\n",
    "c = 0\n",
    "for x in e:\n",
    "    c = max(c, len(x[0]))\n",
    "print c\n",
    "#print X[1000]"
   ]
  },
  {
   "cell_type": "code",
   "execution_count": 17,
   "metadata": {
    "collapsed": false
   },
   "outputs": [
    {
     "name": "stdout",
     "output_type": "stream",
     "text": [
      "____________________________________________________________________________________________________\n",
      "Layer (type)                       Output Shape        Param #     Connected to                     \n",
      "====================================================================================================\n",
      "lstm_8 (LSTM)                      (None, 35, 100)     50800       lstm_input_6[0][0]               \n",
      "____________________________________________________________________________________________________\n",
      "lstm_9 (LSTM)                      (None, 100)         80400       lstm_8[0][0]                     \n",
      "____________________________________________________________________________________________________\n",
      "dense_6 (Dense)                    (None, 39)          3939        lstm_9[0][0]                     \n",
      "====================================================================================================\n",
      "Total params: 135139\n",
      "____________________________________________________________________________________________________\n",
      "None\n"
     ]
    }
   ],
   "source": [
    "# Build the model.\n",
    "from keras.models import Sequential\n",
    "from keras.layers.core import TimeDistributedDense, Dropout, Activation, Dense\n",
    "from keras.layers.recurrent import LSTM\n",
    "from keras.optimizers import RMSprop, adam\n",
    "model = Sequential()\n",
    "model.add(LSTM(100, input_shape=(maxlen, 26), return_sequences=True))\n",
    "model.add(LSTM(100))\n",
    "model.add(Dense(len(ARPAbet), activation='softmax'))\n",
    "model.compile(loss='categorical_crossentropy', optimizer=adam(), metrics=['accuracy'])\n",
    "print(model.summary())\n",
    "#model.load_weights('model.h5')"
   ]
  },
  {
   "cell_type": "code",
   "execution_count": null,
   "metadata": {
    "collapsed": false
   },
   "outputs": [],
   "source": [
    "model.load_weights('model.h5')\n",
    "model.fit(X, y, batch_size=100, nb_epoch=15)\n",
    "#model.save_weights('model.h5', overwrite=True)"
   ]
  },
  {
   "cell_type": "code",
   "execution_count": 11,
   "metadata": {
    "collapsed": false
   },
   "outputs": [
    {
     "name": "stdout",
     "output_type": "stream",
     "text": [
      "10\n",
      "EH\n",
      "\n"
     ]
    }
   ],
   "source": [
    "#model.load_weights('finalweights.h5')\n",
    "def stress(w):\n",
    "    w.encode('ascii','ignore')\n",
    "    w = list(w)\n",
    "    X = np.zeros((1, maxlen, 26), dtype=np.bool)\n",
    "    for t, char in enumerate(w):\n",
    "        X[0, t, ord(char) - ord('a')] = 1\n",
    "    m = model.predict(X)\n",
    "    #print X\n",
    "    a = np.argmax(m)\n",
    "    print a\n",
    "    return(ARPAbet[a])\n",
    "print stress('stress')\n",
    "print "
   ]
  },
  {
   "cell_type": "code",
   "execution_count": 16,
   "metadata": {
    "collapsed": true
   },
   "outputs": [],
   "source": [
    "model.save_weights('model.h5', overwrite=True)"
   ]
  }
 ],
 "metadata": {
  "anaconda-cloud": {},
  "kernelspec": {
   "display_name": "Python [default]",
   "language": "python",
   "name": "python2"
  },
  "language_info": {
   "codemirror_mode": {
    "name": "ipython",
    "version": 2
   },
   "file_extension": ".py",
   "mimetype": "text/x-python",
   "name": "python",
   "nbconvert_exporter": "python",
   "pygments_lexer": "ipython2",
   "version": "2.7.12"
  }
 },
 "nbformat": 4,
 "nbformat_minor": 1
}
